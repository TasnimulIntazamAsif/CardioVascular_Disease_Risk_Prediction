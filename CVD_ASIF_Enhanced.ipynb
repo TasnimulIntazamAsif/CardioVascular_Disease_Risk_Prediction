{
 "cells": [
  {
   "cell_type": "code",
   "execution_count": 17,
   "id": "72374813",
   "metadata": {},
   "outputs": [],
   "source": [
    "import pandas as pd\n",
    "import numpy as np\n",
    "import matplotlib.pyplot as plt\n",
    "import seaborn as sns\n",
    "import warnings\n",
    "warnings.filterwarnings('ignore')\n",
    "\n",
    "# Data preprocessing\n",
    "from sklearn.preprocessing import StandardScaler, RobustScaler, LabelEncoder, MinMaxScaler\n",
    "from sklearn.impute import SimpleImputer\n",
    "from sklearn.feature_selection import SelectKBest, f_classif, RFE, mutual_info_classif\n",
    "from sklearn.decomposition import PCA\n",
    "from sklearn.compose import ColumnTransformer\n",
    "from sklearn.pipeline import Pipeline\n",
    "\n",
    "# Model selection and validation\n",
    "from sklearn.model_selection import train_test_split, cross_val_score, StratifiedKFold, GridSearchCV, RandomizedSearchCV\n",
    "from sklearn.metrics import classification_report, confusion_matrix, accuracy_score, precision_recall_fscore_support\n",
    "from sklearn.metrics import ConfusionMatrixDisplay, roc_auc_score, roc_curve\n",
    "\n",
    "# Models\n",
    "from sklearn.linear_model import LogisticRegression\n",
    "from sklearn.tree import DecisionTreeClassifier\n",
    "from sklearn.ensemble import RandomForestClassifier, GradientBoostingClassifier, VotingClassifier, BaggingClassifier\n",
    "from sklearn.neighbors import KNeighborsClassifier\n",
    "from sklearn.svm import SVC\n",
    "from sklearn.naive_bayes import GaussianNB\n",
    "from xgboost import XGBClassifier\n",
    "\n",
    "# Imbalanced learning\n",
    "from imblearn.over_sampling import SMOTE, ADASYN\n",
    "from imblearn.under_sampling import RandomUnderSampler\n",
    "from imblearn.combine import SMOTEENN\n",
    "from imblearn.pipeline import Pipeline as ImbPipeline"
   ]
  },
  {
   "cell_type": "code",
   "execution_count": 18,
   "id": "33e57bf5",
   "metadata": {},
   "outputs": [],
   "source": [
    "import pandas as pd\n",
    "url_string = 'https://github.com/Bishwaprotapi/Cardiovascular-Disease-Risk-Classification-Using-Machine-Learning-Techniques/blob/main/CVD_Dataset.csv'"
   ]
  },
  {
   "cell_type": "code",
   "execution_count": 19,
   "id": "121b8158",
   "metadata": {},
   "outputs": [
    {
     "data": {
      "text/html": [
       "<div>\n",
       "<style scoped>\n",
       "    .dataframe tbody tr th:only-of-type {\n",
       "        vertical-align: middle;\n",
       "    }\n",
       "\n",
       "    .dataframe tbody tr th {\n",
       "        vertical-align: top;\n",
       "    }\n",
       "\n",
       "    .dataframe thead th {\n",
       "        text-align: right;\n",
       "    }\n",
       "</style>\n",
       "<table border=\"1\" class=\"dataframe\">\n",
       "  <thead>\n",
       "    <tr style=\"text-align: right;\">\n",
       "      <th></th>\n",
       "      <th>Sex</th>\n",
       "      <th>Age</th>\n",
       "      <th>Weight (kg)</th>\n",
       "      <th>Height (m)</th>\n",
       "      <th>BMI</th>\n",
       "      <th>Abdominal Circumference (cm)</th>\n",
       "      <th>Blood Pressure (mmHg)</th>\n",
       "      <th>Total Cholesterol (mg/dL)</th>\n",
       "      <th>HDL (mg/dL)</th>\n",
       "      <th>Fasting Blood Sugar (mg/dL)</th>\n",
       "      <th>Smoking Status</th>\n",
       "      <th>Diabetes Status</th>\n",
       "      <th>Physical Activity Level</th>\n",
       "      <th>Family History of CVD</th>\n",
       "      <th>CVD Risk Level</th>\n",
       "      <th>Height (cm)</th>\n",
       "      <th>Waist-to-Height Ratio</th>\n",
       "      <th>Systolic BP</th>\n",
       "      <th>Diastolic BP</th>\n",
       "      <th>Blood Pressure Category</th>\n",
       "      <th>Estimated LDL (mg/dL)</th>\n",
       "      <th>CVD Risk Score</th>\n",
       "    </tr>\n",
       "  </thead>\n",
       "  <tbody>\n",
       "    <tr>\n",
       "      <th>0</th>\n",
       "      <td>F</td>\n",
       "      <td>32.0</td>\n",
       "      <td>69.100</td>\n",
       "      <td>1.710</td>\n",
       "      <td>23.600</td>\n",
       "      <td>86.200</td>\n",
       "      <td>125/79</td>\n",
       "      <td>248.0</td>\n",
       "      <td>78.0</td>\n",
       "      <td>111.0</td>\n",
       "      <td>N</td>\n",
       "      <td>Y</td>\n",
       "      <td>Low</td>\n",
       "      <td>N</td>\n",
       "      <td>INTERMEDIARY</td>\n",
       "      <td>171.000</td>\n",
       "      <td>0.504</td>\n",
       "      <td>125.0</td>\n",
       "      <td>79.0</td>\n",
       "      <td>Elevated</td>\n",
       "      <td>140.0</td>\n",
       "      <td>17.930</td>\n",
       "    </tr>\n",
       "    <tr>\n",
       "      <th>1</th>\n",
       "      <td>F</td>\n",
       "      <td>55.0</td>\n",
       "      <td>118.700</td>\n",
       "      <td>1.690</td>\n",
       "      <td>41.600</td>\n",
       "      <td>82.500</td>\n",
       "      <td>139/70</td>\n",
       "      <td>162.0</td>\n",
       "      <td>50.0</td>\n",
       "      <td>135.0</td>\n",
       "      <td>Y</td>\n",
       "      <td>Y</td>\n",
       "      <td>High</td>\n",
       "      <td>Y</td>\n",
       "      <td>HIGH</td>\n",
       "      <td>169.000</td>\n",
       "      <td>0.488</td>\n",
       "      <td>139.0</td>\n",
       "      <td>70.0</td>\n",
       "      <td>Hypertension Stage 1</td>\n",
       "      <td>82.0</td>\n",
       "      <td>20.510</td>\n",
       "    </tr>\n",
       "    <tr>\n",
       "      <th>2</th>\n",
       "      <td>M</td>\n",
       "      <td>NaN</td>\n",
       "      <td>NaN</td>\n",
       "      <td>1.830</td>\n",
       "      <td>26.900</td>\n",
       "      <td>106.700</td>\n",
       "      <td>104/77</td>\n",
       "      <td>103.0</td>\n",
       "      <td>73.0</td>\n",
       "      <td>114.0</td>\n",
       "      <td>N</td>\n",
       "      <td>N</td>\n",
       "      <td>High</td>\n",
       "      <td>Y</td>\n",
       "      <td>INTERMEDIARY</td>\n",
       "      <td>183.000</td>\n",
       "      <td>0.583</td>\n",
       "      <td>104.0</td>\n",
       "      <td>77.0</td>\n",
       "      <td>Normal</td>\n",
       "      <td>0.0</td>\n",
       "      <td>12.640</td>\n",
       "    </tr>\n",
       "    <tr>\n",
       "      <th>3</th>\n",
       "      <td>M</td>\n",
       "      <td>44.0</td>\n",
       "      <td>108.300</td>\n",
       "      <td>1.800</td>\n",
       "      <td>33.400</td>\n",
       "      <td>96.600</td>\n",
       "      <td>140/83</td>\n",
       "      <td>134.0</td>\n",
       "      <td>46.0</td>\n",
       "      <td>91.0</td>\n",
       "      <td>N</td>\n",
       "      <td>N</td>\n",
       "      <td>High</td>\n",
       "      <td>Y</td>\n",
       "      <td>INTERMEDIARY</td>\n",
       "      <td>NaN</td>\n",
       "      <td>0.537</td>\n",
       "      <td>140.0</td>\n",
       "      <td>83.0</td>\n",
       "      <td>Hypertension Stage 1</td>\n",
       "      <td>58.0</td>\n",
       "      <td>16.360</td>\n",
       "    </tr>\n",
       "    <tr>\n",
       "      <th>4</th>\n",
       "      <td>F</td>\n",
       "      <td>32.0</td>\n",
       "      <td>99.500</td>\n",
       "      <td>1.860</td>\n",
       "      <td>28.800</td>\n",
       "      <td>102.700</td>\n",
       "      <td>144/83</td>\n",
       "      <td>146.0</td>\n",
       "      <td>64.0</td>\n",
       "      <td>141.0</td>\n",
       "      <td>Y</td>\n",
       "      <td>Y</td>\n",
       "      <td>High</td>\n",
       "      <td>N</td>\n",
       "      <td>INTERMEDIARY</td>\n",
       "      <td>186.000</td>\n",
       "      <td>0.552</td>\n",
       "      <td>144.0</td>\n",
       "      <td>83.0</td>\n",
       "      <td>Hypertension Stage 1</td>\n",
       "      <td>52.0</td>\n",
       "      <td>17.880</td>\n",
       "    </tr>\n",
       "    <tr>\n",
       "      <th>...</th>\n",
       "      <td>...</td>\n",
       "      <td>...</td>\n",
       "      <td>...</td>\n",
       "      <td>...</td>\n",
       "      <td>...</td>\n",
       "      <td>...</td>\n",
       "      <td>...</td>\n",
       "      <td>...</td>\n",
       "      <td>...</td>\n",
       "      <td>...</td>\n",
       "      <td>...</td>\n",
       "      <td>...</td>\n",
       "      <td>...</td>\n",
       "      <td>...</td>\n",
       "      <td>...</td>\n",
       "      <td>...</td>\n",
       "      <td>...</td>\n",
       "      <td>...</td>\n",
       "      <td>...</td>\n",
       "      <td>...</td>\n",
       "      <td>...</td>\n",
       "      <td>...</td>\n",
       "    </tr>\n",
       "    <tr>\n",
       "      <th>1524</th>\n",
       "      <td>F</td>\n",
       "      <td>40.0</td>\n",
       "      <td>72.070</td>\n",
       "      <td>1.889</td>\n",
       "      <td>NaN</td>\n",
       "      <td>95.326</td>\n",
       "      <td>119/66</td>\n",
       "      <td>157.0</td>\n",
       "      <td>60.0</td>\n",
       "      <td>93.0</td>\n",
       "      <td>N</td>\n",
       "      <td>N</td>\n",
       "      <td>Moderate</td>\n",
       "      <td>Y</td>\n",
       "      <td>LOW</td>\n",
       "      <td>188.894</td>\n",
       "      <td>0.505</td>\n",
       "      <td>119.0</td>\n",
       "      <td>66.0</td>\n",
       "      <td>Normal</td>\n",
       "      <td>67.0</td>\n",
       "      <td>14.300</td>\n",
       "    </tr>\n",
       "    <tr>\n",
       "      <th>1525</th>\n",
       "      <td>F</td>\n",
       "      <td>78.0</td>\n",
       "      <td>85.877</td>\n",
       "      <td>1.825</td>\n",
       "      <td>24.426</td>\n",
       "      <td>112.340</td>\n",
       "      <td>102/115</td>\n",
       "      <td>241.0</td>\n",
       "      <td>84.0</td>\n",
       "      <td>NaN</td>\n",
       "      <td>Y</td>\n",
       "      <td>N</td>\n",
       "      <td>Low</td>\n",
       "      <td>N</td>\n",
       "      <td>INTERMEDIARY</td>\n",
       "      <td>182.485</td>\n",
       "      <td>0.616</td>\n",
       "      <td>102.0</td>\n",
       "      <td>115.0</td>\n",
       "      <td>Hypertension Stage 2</td>\n",
       "      <td>127.0</td>\n",
       "      <td>14.805</td>\n",
       "    </tr>\n",
       "    <tr>\n",
       "      <th>1526</th>\n",
       "      <td>M</td>\n",
       "      <td>39.0</td>\n",
       "      <td>98.626</td>\n",
       "      <td>1.521</td>\n",
       "      <td>20.055</td>\n",
       "      <td>77.193</td>\n",
       "      <td>150/90</td>\n",
       "      <td>237.0</td>\n",
       "      <td>82.0</td>\n",
       "      <td>147.0</td>\n",
       "      <td>N</td>\n",
       "      <td>Y</td>\n",
       "      <td>High</td>\n",
       "      <td>N</td>\n",
       "      <td>INTERMEDIARY</td>\n",
       "      <td>152.119</td>\n",
       "      <td>0.507</td>\n",
       "      <td>150.0</td>\n",
       "      <td>90.0</td>\n",
       "      <td>Hypertension Stage 2</td>\n",
       "      <td>125.0</td>\n",
       "      <td>18.251</td>\n",
       "    </tr>\n",
       "    <tr>\n",
       "      <th>1527</th>\n",
       "      <td>M</td>\n",
       "      <td>71.0</td>\n",
       "      <td>116.163</td>\n",
       "      <td>1.841</td>\n",
       "      <td>29.279</td>\n",
       "      <td>114.197</td>\n",
       "      <td>112/63</td>\n",
       "      <td>193.0</td>\n",
       "      <td>84.0</td>\n",
       "      <td>123.0</td>\n",
       "      <td>N</td>\n",
       "      <td>N</td>\n",
       "      <td>High</td>\n",
       "      <td>Y</td>\n",
       "      <td>INTERMEDIARY</td>\n",
       "      <td>184.059</td>\n",
       "      <td>0.620</td>\n",
       "      <td>112.0</td>\n",
       "      <td>63.0</td>\n",
       "      <td>Normal</td>\n",
       "      <td>79.0</td>\n",
       "      <td>15.316</td>\n",
       "    </tr>\n",
       "    <tr>\n",
       "      <th>1528</th>\n",
       "      <td>F</td>\n",
       "      <td>78.0</td>\n",
       "      <td>111.627</td>\n",
       "      <td>1.867</td>\n",
       "      <td>22.017</td>\n",
       "      <td>97.692</td>\n",
       "      <td>134/67</td>\n",
       "      <td>218.0</td>\n",
       "      <td>68.0</td>\n",
       "      <td>166.0</td>\n",
       "      <td>N</td>\n",
       "      <td>N</td>\n",
       "      <td>High</td>\n",
       "      <td>N</td>\n",
       "      <td>HIGH</td>\n",
       "      <td>186.735</td>\n",
       "      <td>0.523</td>\n",
       "      <td>134.0</td>\n",
       "      <td>67.0</td>\n",
       "      <td>Hypertension Stage 1</td>\n",
       "      <td>120.0</td>\n",
       "      <td>15.463</td>\n",
       "    </tr>\n",
       "  </tbody>\n",
       "</table>\n",
       "<p>1529 rows × 22 columns</p>\n",
       "</div>"
      ],
      "text/plain": [
       "     Sex   Age  Weight (kg)  Height (m)     BMI  Abdominal Circumference (cm)  \\\n",
       "0      F  32.0       69.100       1.710  23.600                        86.200   \n",
       "1      F  55.0      118.700       1.690  41.600                        82.500   \n",
       "2      M   NaN          NaN       1.830  26.900                       106.700   \n",
       "3      M  44.0      108.300       1.800  33.400                        96.600   \n",
       "4      F  32.0       99.500       1.860  28.800                       102.700   \n",
       "...   ..   ...          ...         ...     ...                           ...   \n",
       "1524   F  40.0       72.070       1.889     NaN                        95.326   \n",
       "1525   F  78.0       85.877       1.825  24.426                       112.340   \n",
       "1526   M  39.0       98.626       1.521  20.055                        77.193   \n",
       "1527   M  71.0      116.163       1.841  29.279                       114.197   \n",
       "1528   F  78.0      111.627       1.867  22.017                        97.692   \n",
       "\n",
       "     Blood Pressure (mmHg)  Total Cholesterol (mg/dL)  HDL (mg/dL)  \\\n",
       "0                   125/79                      248.0         78.0   \n",
       "1                   139/70                      162.0         50.0   \n",
       "2                   104/77                      103.0         73.0   \n",
       "3                   140/83                      134.0         46.0   \n",
       "4                   144/83                      146.0         64.0   \n",
       "...                    ...                        ...          ...   \n",
       "1524                119/66                      157.0         60.0   \n",
       "1525               102/115                      241.0         84.0   \n",
       "1526                150/90                      237.0         82.0   \n",
       "1527                112/63                      193.0         84.0   \n",
       "1528                134/67                      218.0         68.0   \n",
       "\n",
       "      Fasting Blood Sugar (mg/dL) Smoking Status Diabetes Status  \\\n",
       "0                           111.0              N               Y   \n",
       "1                           135.0              Y               Y   \n",
       "2                           114.0              N               N   \n",
       "3                            91.0              N               N   \n",
       "4                           141.0              Y               Y   \n",
       "...                           ...            ...             ...   \n",
       "1524                         93.0              N               N   \n",
       "1525                          NaN              Y               N   \n",
       "1526                        147.0              N               Y   \n",
       "1527                        123.0              N               N   \n",
       "1528                        166.0              N               N   \n",
       "\n",
       "     Physical Activity Level Family History of CVD CVD Risk Level  \\\n",
       "0                        Low                     N   INTERMEDIARY   \n",
       "1                       High                     Y           HIGH   \n",
       "2                       High                     Y   INTERMEDIARY   \n",
       "3                       High                     Y   INTERMEDIARY   \n",
       "4                       High                     N   INTERMEDIARY   \n",
       "...                      ...                   ...            ...   \n",
       "1524                Moderate                     Y            LOW   \n",
       "1525                     Low                     N   INTERMEDIARY   \n",
       "1526                    High                     N   INTERMEDIARY   \n",
       "1527                    High                     Y   INTERMEDIARY   \n",
       "1528                    High                     N           HIGH   \n",
       "\n",
       "      Height (cm)  Waist-to-Height Ratio  Systolic BP  Diastolic BP  \\\n",
       "0         171.000                  0.504        125.0          79.0   \n",
       "1         169.000                  0.488        139.0          70.0   \n",
       "2         183.000                  0.583        104.0          77.0   \n",
       "3             NaN                  0.537        140.0          83.0   \n",
       "4         186.000                  0.552        144.0          83.0   \n",
       "...           ...                    ...          ...           ...   \n",
       "1524      188.894                  0.505        119.0          66.0   \n",
       "1525      182.485                  0.616        102.0         115.0   \n",
       "1526      152.119                  0.507        150.0          90.0   \n",
       "1527      184.059                  0.620        112.0          63.0   \n",
       "1528      186.735                  0.523        134.0          67.0   \n",
       "\n",
       "     Blood Pressure Category  Estimated LDL (mg/dL)  CVD Risk Score  \n",
       "0                   Elevated                  140.0          17.930  \n",
       "1       Hypertension Stage 1                   82.0          20.510  \n",
       "2                     Normal                    0.0          12.640  \n",
       "3       Hypertension Stage 1                   58.0          16.360  \n",
       "4       Hypertension Stage 1                   52.0          17.880  \n",
       "...                      ...                    ...             ...  \n",
       "1524                  Normal                   67.0          14.300  \n",
       "1525    Hypertension Stage 2                  127.0          14.805  \n",
       "1526    Hypertension Stage 2                  125.0          18.251  \n",
       "1527                  Normal                   79.0          15.316  \n",
       "1528    Hypertension Stage 1                  120.0          15.463  \n",
       "\n",
       "[1529 rows x 22 columns]"
      ]
     },
     "execution_count": 19,
     "metadata": {},
     "output_type": "execute_result"
    }
   ],
   "source": [
    "# Reading Data Into Pandas Dataframe\n",
    "df = pd.read_csv('CVD_Dataset.csv')\n",
    "df"
   ]
  },
  {
   "cell_type": "code",
   "execution_count": 20,
   "id": "bfa5f27c",
   "metadata": {},
   "outputs": [],
   "source": [
    "# Visualization settings\n",
    "plt.style.use('seaborn-v0_8')\n",
    "sns.set_palette(\"husl\")\n",
    "pd.set_option('display.max_columns', None)\n",
    "pd.set_option('display.max_rows', 100)"
   ]
  },
  {
   "cell_type": "code",
   "execution_count": 21,
   "id": "0058428a",
   "metadata": {},
   "outputs": [
    {
     "name": "stdout",
     "output_type": "stream",
     "text": [
      "=== ENHANCED DATASET OVERVIEW ===\n",
      "Shape: (1529, 22)\n",
      "Target Distribution:\n",
      "CVD Risk Level\n",
      "HIGH            728\n",
      "INTERMEDIARY    581\n",
      "LOW             220\n",
      "Name: count, dtype: int64\n",
      "Target Distribution (%):\n",
      "CVD Risk Level\n",
      "HIGH            47.612819\n",
      "INTERMEDIARY    37.998692\n",
      "LOW             14.388489\n",
      "Name: proportion, dtype: float64\n"
     ]
    }
   ],
   "source": [
    "# Enhanced Data Exploration\n",
    "print(\"=== ENHANCED DATASET OVERVIEW ===\")\n",
    "print(f\"Shape: {df.shape}\")\n",
    "print(f\"Target Distribution:\")\n",
    "print(df['CVD Risk Level'].value_counts())\n",
    "print(f\"Target Distribution (%):\")\n",
    "print(df['CVD Risk Level'].value_counts(normalize=True) * 100)\n"
   ]
  },
  {
   "cell_type": "code",
   "execution_count": 22,
   "id": "674add76",
   "metadata": {},
   "outputs": [
    {
     "name": "stdout",
     "output_type": "stream",
     "text": [
      "\n",
      "Missing Values:\n",
      "Sex                              0\n",
      "Age                             78\n",
      "Weight (kg)                     81\n",
      "Height (m)                      67\n",
      "BMI                             64\n",
      "Abdominal Circumference (cm)    67\n",
      "Blood Pressure (mmHg)            0\n",
      "Total Cholesterol (mg/dL)       73\n",
      "HDL (mg/dL)                     80\n",
      "Fasting Blood Sugar (mg/dL)     67\n",
      "Smoking Status                   0\n",
      "Diabetes Status                  0\n",
      "Physical Activity Level          0\n",
      "Family History of CVD            0\n",
      "CVD Risk Level                   0\n",
      "Height (cm)                     74\n",
      "Waist-to-Height Ratio           79\n",
      "Systolic BP                     71\n",
      "Diastolic BP                    82\n",
      "Blood Pressure Category          0\n",
      "Estimated LDL (mg/dL)           69\n",
      "CVD Risk Score                  70\n",
      "dtype: int64\n",
      "Total missing: 1022\n"
     ]
    }
   ],
   "source": [
    "# Check for missing values\n",
    "print(f\"\\nMissing Values:\")\n",
    "print(df.isnull().sum())\n",
    "print(f\"Total missing: {df.isnull().sum().sum()}\")"
   ]
  },
  {
   "cell_type": "code",
   "execution_count": 23,
   "id": "9e978040",
   "metadata": {},
   "outputs": [
    {
     "name": "stdout",
     "output_type": "stream",
     "text": [
      "=== ENHANCED FEATURE ENGINEERING ===\n"
     ]
    }
   ],
   "source": [
    "print(\"=== ENHANCED FEATURE ENGINEERING ===\")\n"
   ]
  },
  {
   "cell_type": "code",
   "execution_count": 24,
   "id": "e81a4eae",
   "metadata": {},
   "outputs": [],
   "source": [
    "# Create new features\n",
    "df['Age_Group'] = pd.cut(df['Age'], bins=[0, 30, 45, 60, 100], labels=['Young', 'Adult', 'Middle', 'Senior'])\n",
    "df['BMI_Category'] = pd.cut(df['BMI'], bins=[0, 18.5, 25, 30, 100], labels=['Underweight', 'Normal', 'Overweight', 'Obese'])\n",
    "df['BP_Ratio'] = df['Systolic BP'] / df['Diastolic BP']\n",
    "df['Cholesterol_Ratio'] = df['Total Cholesterol (mg/dL)'] / df['HDL (mg/dL)']\n",
    "df['Metabolic_Index'] = df['BMI'] * df['Fasting Blood Sugar (mg/dL)'] / 100\n",
    "df['Cardiovascular_Index'] = (df['Systolic BP'] + df['Diastolic BP']) * df['Age'] / 100"
   ]
  },
  {
   "cell_type": "code",
   "execution_count": 25,
   "id": "800457a6",
   "metadata": {},
   "outputs": [
    {
     "name": "stdout",
     "output_type": "stream",
     "text": [
      "New features created: 8\n",
      "New dataset shape: (1529, 30)\n"
     ]
    }
   ],
   "source": [
    "# Create interaction features\n",
    "df['Age_BMI_Interaction'] = df['Age'] * df['BMI']\n",
    "df['BP_Cholesterol_Interaction'] = df['Systolic BP'] * df['Total Cholesterol (mg/dL)'] / 1000\n",
    "\n",
    "new_features = ['Age_Group', 'BMI_Category', 'BP_Ratio', 'Cholesterol_Ratio', 'Metabolic_Index', \n",
    "                'Cardiovascular_Index', 'Age_BMI_Interaction', 'BP_Cholesterol_Interaction']\n",
    "print(f\"New features created: {len(new_features)}\")\n",
    "print(f\"New dataset shape: {df.shape}\")"
   ]
  },
  {
   "cell_type": "code",
   "execution_count": 26,
   "id": "a0b6aa74",
   "metadata": {},
   "outputs": [
    {
     "name": "stdout",
     "output_type": "stream",
     "text": [
      "\n",
      "New Features Preview:\n",
      "  Age_Group BMI_Category  BP_Ratio  Cholesterol_Ratio  Metabolic_Index  \\\n",
      "0     Adult       Normal  1.582278           3.179487           26.196   \n",
      "1    Middle        Obese  1.985714           3.240000           56.160   \n",
      "2       NaN   Overweight  1.350649           1.410959           30.666   \n",
      "3     Adult        Obese  1.686747           2.913043           30.394   \n",
      "4     Adult   Overweight  1.734940           2.281250           40.608   \n",
      "\n",
      "   Cardiovascular_Index  Age_BMI_Interaction  BP_Cholesterol_Interaction  \n",
      "0                 65.28                755.2                      31.000  \n",
      "1                114.95               2288.0                      22.518  \n",
      "2                   NaN                  NaN                      10.712  \n",
      "3                 98.12               1469.6                      18.760  \n",
      "4                 72.64                921.6                      21.024  \n"
     ]
    }
   ],
   "source": [
    "# Display new features\n",
    "print(\"\\nNew Features Preview:\")\n",
    "print(df[new_features].head())"
   ]
  },
  {
   "cell_type": "code",
   "execution_count": 27,
   "id": "9b7ea56a",
   "metadata": {},
   "outputs": [
    {
     "name": "stdout",
     "output_type": "stream",
     "text": [
      "=== ENHANCED DATA PREPROCESSING ===\n"
     ]
    }
   ],
   "source": [
    "print(\"=== ENHANCED DATA PREPROCESSING ===\")"
   ]
  },
  {
   "cell_type": "code",
   "execution_count": 28,
   "id": "d7ebd474",
   "metadata": {},
   "outputs": [
    {
     "name": "stdout",
     "output_type": "stream",
     "text": [
      "Numerical columns: 20\n",
      "Categorical columns: 8\n"
     ]
    }
   ],
   "source": [
    "# Separate numerical and categorical columns\n",
    "numerical_columns = df.select_dtypes(include=['int64', 'float64']).columns.tolist()\n",
    "categorical_columns = df.select_dtypes(include=['object']).columns.tolist()\n",
    "\n",
    "print(f\"Numerical columns: {len(numerical_columns)}\")\n",
    "print(f\"Categorical columns: {len(categorical_columns)}\")"
   ]
  },
  {
   "cell_type": "code",
   "execution_count": 29,
   "id": "f5b1fd7e",
   "metadata": {},
   "outputs": [],
   "source": [
    "# Remove target variable from numerical columns\n",
    "if 'CVD Risk Level' in numerical_columns:\n",
    "    numerical_columns.remove('CVD Risk Level')\n"
   ]
  },
  {
   "cell_type": "code",
   "execution_count": 30,
   "id": "7d356114",
   "metadata": {},
   "outputs": [
    {
     "name": "stdout",
     "output_type": "stream",
     "text": [
      "\n",
      "Handling missing values...\n",
      "Filled missing values in Age with median\n",
      "Filled missing values in Weight (kg) with median\n",
      "Filled missing values in Height (m) with median\n",
      "Filled missing values in BMI with median\n",
      "Filled missing values in Abdominal Circumference (cm) with median\n",
      "Filled missing values in Total Cholesterol (mg/dL) with median\n",
      "Filled missing values in HDL (mg/dL) with median\n",
      "Filled missing values in Fasting Blood Sugar (mg/dL) with median\n",
      "Filled missing values in Height (cm) with median\n",
      "Filled missing values in Waist-to-Height Ratio with median\n",
      "Filled missing values in Systolic BP with median\n",
      "Filled missing values in Diastolic BP with median\n",
      "Filled missing values in Estimated LDL (mg/dL) with median\n",
      "Filled missing values in CVD Risk Score with median\n",
      "Filled missing values in BP_Ratio with median\n",
      "Filled missing values in Cholesterol_Ratio with median\n",
      "Filled missing values in Metabolic_Index with median\n",
      "Filled missing values in Cardiovascular_Index with median\n",
      "Filled missing values in Age_BMI_Interaction with median\n",
      "Filled missing values in BP_Cholesterol_Interaction with median\n",
      "\n",
      "Missing values after handling: 142\n"
     ]
    }
   ],
   "source": [
    "# Handle missing values\n",
    "print(\"\\nHandling missing values...\")\n",
    "for col in numerical_columns:\n",
    "    if df[col].isnull().sum() > 0:\n",
    "        df[col].fillna(df[col].median(), inplace=True)\n",
    "        print(f\"Filled missing values in {col} with median\")\n",
    "\n",
    "for col in categorical_columns:\n",
    "    if df[col].isnull().sum() > 0:\n",
    "        df[col].fillna(df[col].mode()[0], inplace=True)\n",
    "        print(f\"Filled missing values in {col} with mode\")\n",
    "\n",
    "print(f\"\\nMissing values after handling: {df.isnull().sum().sum()}\")\n"
   ]
  },
  {
   "cell_type": "code",
   "execution_count": 31,
   "id": "f92f73ba",
   "metadata": {},
   "outputs": [
    {
     "name": "stdout",
     "output_type": "stream",
     "text": [
      "\n",
      "=== FEATURE ENCODING AND SCALING ===\n"
     ]
    }
   ],
   "source": [
    "# Enhanced Feature Encoding and Scaling\n",
    "print(\"\\n=== FEATURE ENCODING AND SCALING ===\")\n"
   ]
  },
  {
   "cell_type": "code",
   "execution_count": 32,
   "id": "7da640ef",
   "metadata": {},
   "outputs": [
    {
     "name": "stdout",
     "output_type": "stream",
     "text": [
      "Encoded Sex with 2 classes\n",
      "Encoded Blood Pressure (mmHg) with 1254 classes\n",
      "Encoded Smoking Status with 2 classes\n",
      "Encoded Diabetes Status with 2 classes\n",
      "Encoded Physical Activity Level with 3 classes\n",
      "Encoded Family History of CVD with 2 classes\n",
      "Encoded Blood Pressure Category with 4 classes\n"
     ]
    }
   ],
   "source": [
    "# Encode categorical variables\n",
    "label_encoders = {}\n",
    "for col in categorical_columns:\n",
    "    if col != 'CVD Risk Level':  # Don't encode target yet\n",
    "        le = LabelEncoder()\n",
    "        df[col + '_encoded'] = le.fit_transform(df[col])\n",
    "        label_encoders[col] = le\n",
    "        print(f\"Encoded {col} with {len(le.classes_)} classes\")"
   ]
  },
  {
   "cell_type": "code",
   "execution_count": 33,
   "id": "1a832b40",
   "metadata": {},
   "outputs": [
    {
     "name": "stdout",
     "output_type": "stream",
     "text": [
      "\n",
      "Target encoding: {'HIGH': 0, 'INTERMEDIARY': 1, 'LOW': 2}\n"
     ]
    }
   ],
   "source": [
    "# Encode target variable\n",
    "target_encoder = LabelEncoder()\n",
    "df['CVD_Risk_encoded'] = target_encoder.fit_transform(df['CVD Risk Level'])\n",
    "print(f\"\\nTarget encoding: {dict(zip(target_encoder.classes_, range(len(target_encoder.classes_))))}\")\n"
   ]
  },
  {
   "cell_type": "code",
   "execution_count": 34,
   "id": "3bcb7edb",
   "metadata": {},
   "outputs": [
    {
     "name": "stdout",
     "output_type": "stream",
     "text": [
      "\n",
      "Total features: 27\n",
      "Feature columns: ['Age', 'Weight (kg)', 'Height (m)', 'BMI', 'Abdominal Circumference (cm)', 'Total Cholesterol (mg/dL)', 'HDL (mg/dL)', 'Fasting Blood Sugar (mg/dL)', 'Height (cm)', 'Waist-to-Height Ratio']...\n"
     ]
    }
   ],
   "source": [
    "# Create final feature set\n",
    "feature_columns = numerical_columns + [col + '_encoded' for col in categorical_columns if col != 'CVD Risk Level']\n",
    "print(f\"\\nTotal features: {len(feature_columns)}\")\n",
    "print(f\"Feature columns: {feature_columns[:10]}...\")"
   ]
  },
  {
   "cell_type": "code",
   "execution_count": 35,
   "id": "55e8b6e3",
   "metadata": {},
   "outputs": [
    {
     "name": "stdout",
     "output_type": "stream",
     "text": [
      "=== ADVANCED FEATURE SELECTION ===\n"
     ]
    }
   ],
   "source": [
    "print(\"=== ADVANCED FEATURE SELECTION ===\")"
   ]
  },
  {
   "cell_type": "code",
   "execution_count": 36,
   "id": "5fac65be",
   "metadata": {},
   "outputs": [],
   "source": [
    "# Prepare data for feature selection\n",
    "X_features = df[feature_columns].copy()\n",
    "y_target = df['CVD_Risk_encoded'].copy()\n"
   ]
  },
  {
   "cell_type": "code",
   "execution_count": 37,
   "id": "37be1e41",
   "metadata": {},
   "outputs": [],
   "source": [
    "# Remove any remaining infinite values\n",
    "X_features = X_features.replace([np.inf, -np.inf], np.nan)\n",
    "X_features = X_features.fillna(X_features.median())\n"
   ]
  },
  {
   "cell_type": "code",
   "execution_count": 38,
   "id": "fa1de3b5",
   "metadata": {},
   "outputs": [
    {
     "name": "stdout",
     "output_type": "stream",
     "text": [
      "1. Statistical Feature Selection (F-test)...\n",
      "                          Feature    F_Score\n",
      "13                 CVD Risk Score  62.020674\n",
      "15              Cholesterol_Ratio  45.667177\n",
      "22         Smoking Status_encoded  36.204777\n",
      "12          Estimated LDL (mg/dL)  35.842341\n",
      "23        Diabetes Status_encoded  32.417043\n",
      "25  Family History of CVD_encoded  31.182939\n",
      "3                             BMI  28.009069\n",
      "6                     HDL (mg/dL)  24.364436\n",
      "18            Age_BMI_Interaction  24.207193\n",
      "5       Total Cholesterol (mg/dL)  22.050444\n",
      "\n",
      "2. Mutual Information Feature Selection...\n",
      "                            Feature  MI_Score\n",
      "2                        Height (m)  0.063078\n",
      "3                               BMI  0.055390\n",
      "17             Cardiovascular_Index  0.054392\n",
      "12            Estimated LDL (mg/dL)  0.053785\n",
      "13                   CVD Risk Score  0.052780\n",
      "8                       Height (cm)  0.038205\n",
      "21    Blood Pressure (mmHg)_encoded  0.037858\n",
      "15                Cholesterol_Ratio  0.037202\n",
      "0                               Age  0.034263\n",
      "24  Physical Activity Level_encoded  0.031934\n"
     ]
    }
   ],
   "source": [
    "# Feature selection using multiple methods\n",
    "print(\"1. Statistical Feature Selection (F-test)...\")\n",
    "f_selector = SelectKBest(score_func=f_classif, k='all')\n",
    "f_selector.fit(X_features, y_target)\n",
    "f_scores = pd.DataFrame({'Feature': feature_columns, 'F_Score': f_selector.scores_})\n",
    "f_scores = f_scores.sort_values('F_Score', ascending=False)\n",
    "print(f_scores.head(10))\n",
    "\n",
    "print(\"\\n2. Mutual Information Feature Selection...\")\n",
    "mi_selector = SelectKBest(score_func=mutual_info_classif, k='all')\n",
    "mi_selector.fit(X_features, y_target)\n",
    "mi_scores = pd.DataFrame({'Feature': feature_columns, 'MI_Score': mi_selector.scores_})\n",
    "mi_scores = mi_scores.sort_values('MI_Score', ascending=False)\n",
    "print(mi_scores.head(10))"
   ]
  },
  {
   "cell_type": "code",
   "execution_count": 39,
   "id": "9b758216",
   "metadata": {},
   "outputs": [
    {
     "name": "stdout",
     "output_type": "stream",
     "text": [
      "\n",
      "Selected features (20): ['Weight (kg)', 'Blood Pressure (mmHg)_encoded', 'Physical Activity Level_encoded', 'Diabetes Status_encoded', 'Height (m)', 'Height (cm)', 'CVD Risk Score', 'Family History of CVD_encoded', 'Cholesterol_Ratio', 'HDL (mg/dL)', 'Metabolic_Index', 'Total Cholesterol (mg/dL)', 'Age_BMI_Interaction', 'BP_Cholesterol_Interaction', 'BMI', 'Smoking Status_encoded', 'Cardiovascular_Index', 'Age', 'Systolic BP', 'Estimated LDL (mg/dL)']\n"
     ]
    }
   ],
   "source": [
    "# Select top features based on both methods\n",
    "top_features_f = f_scores.head(15)['Feature'].tolist()\n",
    "top_features_mi = mi_scores.head(15)['Feature'].tolist()\n",
    "selected_features = list(set(top_features_f + top_features_mi))\n",
    "print(f\"\\nSelected features ({len(selected_features)}): {selected_features}\")\n"
   ]
  },
  {
   "cell_type": "code",
   "execution_count": 40,
   "id": "90098550",
   "metadata": {},
   "outputs": [
    {
     "data": {
      "image/png": "[encoded data removed]",
      "text/plain": [
       "<Figure size 1200x600 with 1 Axes>"
      ]
     },
     "metadata": {},
     "output_type": "display_data"
    }
   ],
   "source": [
    "# Visualize feature importance\n",
    "plt.figure(figsize=(12, 6))\n",
    "top_features_combined = f_scores.head(10)\n",
    "plt.barh(range(len(top_features_combined)), top_features_combined['F_Score'])\n",
    "plt.yticks(range(len(top_features_combined)), top_features_combined['Feature'])\n",
    "plt.xlabel('F-Score')\n",
    "plt.title('Top 10 Features by F-Score')\n",
    "plt.gca().invert_yaxis()\n",
    "plt.tight_layout()\n",
    "plt.show()"
   ]
  },
  {
   "cell_type": "code",
   "execution_count": 41,
   "id": "8d118585",
   "metadata": {},
   "outputs": [
    {
     "name": "stdout",
     "output_type": "stream",
     "text": [
      "=== ENHANCED DATA BALANCING AND SPLITTING ===\n"
     ]
    }
   ],
   "source": [
    "print(\"=== ENHANCED DATA BALANCING AND SPLITTING ===\")\n"
   ]
  },
  {
   "cell_type": "code",
   "execution_count": 42,
   "id": "da051e45",
   "metadata": {},
   "outputs": [
    {
     "name": "stdout",
     "output_type": "stream",
     "text": [
      "Original class distribution:\n",
      "CVD_Risk_encoded\n",
      "0    728\n",
      "1    581\n",
      "2    220\n",
      "Name: count, dtype: int64\n"
     ]
    }
   ],
   "source": [
    "# Use selected features\n",
    "X_selected = X_features[selected_features].copy()\n",
    "y_selected = y_target.copy()\n",
    "\n",
    "print(f\"Original class distribution:\")\n",
    "print(pd.Series(y_selected).value_counts())\n"
   ]
  },
  {
   "cell_type": "code",
   "execution_count": 43,
   "id": "baba6619",
   "metadata": {},
   "outputs": [
    {
     "name": "stdout",
     "output_type": "stream",
     "text": [
      "\n",
      "Applying SMOTEENN for balanced sampling...\n",
      "Balanced class distribution:\n",
      "CVD_Risk_encoded\n",
      "2    463\n",
      "1    161\n",
      "0    114\n",
      "Name: count, dtype: int64\n"
     ]
    }
   ],
   "source": [
    "# Advanced balancing techniques\n",
    "print(\"\\nApplying SMOTEENN for balanced sampling...\")\n",
    "smoteenn = SMOTEENN(random_state=42)\n",
    "X_balanced, y_balanced = smoteenn.fit_resample(X_selected, y_selected)\n",
    "\n",
    "print(f\"Balanced class distribution:\")\n",
    "print(pd.Series(y_balanced).value_counts())"
   ]
  },
  {
   "cell_type": "code",
   "execution_count": 44,
   "id": "3ce95b38",
   "metadata": {},
   "outputs": [
    {
     "name": "stdout",
     "output_type": "stream",
     "text": [
      "\n",
      "Training set: (590, 20)\n",
      "Test set: (148, 20)\n",
      "Training class distribution: [ 91 129 370]\n",
      "Test class distribution: [23 32 93]\n"
     ]
    }
   ],
   "source": [
    "# Split the data\n",
    "X_train, X_test, y_train, y_test = train_test_split(\n",
    "    X_balanced, y_balanced, test_size=0.2, random_state=42, stratify=y_balanced\n",
    ")\n",
    "\n",
    "print(f\"\\nTraining set: {X_train.shape}\")\n",
    "print(f\"Test set: {X_test.shape}\")\n",
    "print(f\"Training class distribution: {np.bincount(y_train)}\")\n",
    "print(f\"Test class distribution: {np.bincount(y_test)}\")"
   ]
  },
  {
   "cell_type": "code",
   "execution_count": 45,
   "id": "ba2b6c8f",
   "metadata": {},
   "outputs": [
    {
     "name": "stdout",
     "output_type": "stream",
     "text": [
      "\n",
      "=== ENHANCED MODEL PIPELINE ===\n"
     ]
    }
   ],
   "source": [
    "print(\"\\n=== ENHANCED MODEL PIPELINE ===\")\n"
   ]
  },
  {
   "cell_type": "code",
   "execution_count": 46,
   "id": "6d42a1f4",
   "metadata": {},
   "outputs": [],
   "source": [
    "# Create preprocessing pipeline\n",
    "preprocessor = Pipeline([\n",
    "    ('imputer', SimpleImputer(strategy='median')),\n",
    "    ('scaler', RobustScaler())\n",
    "])"
   ]
  },
  {
   "cell_type": "code",
   "execution_count": 47,
   "id": "20b8feaa",
   "metadata": {},
   "outputs": [
    {
     "name": "stdout",
     "output_type": "stream",
     "text": [
      "Preprocessing completed\n",
      "Training data shape: (590, 20)\n",
      "Test data shape: (148, 20)\n"
     ]
    }
   ],
   "source": [
    "# Apply preprocessing\n",
    "X_train_scaled = preprocessor.fit_transform(X_train)\n",
    "X_test_scaled = preprocessor.transform(X_test)\n",
    "\n",
    "print(\"Preprocessing completed\")\n",
    "print(f\"Training data shape: {X_train_scaled.shape}\")\n",
    "print(f\"Test data shape: {X_test_scaled.shape}\")"
   ]
  },
  {
   "cell_type": "code",
   "execution_count": 48,
   "id": "c8b5aed1",
   "metadata": {},
   "outputs": [
    {
     "name": "stdout",
     "output_type": "stream",
     "text": [
      "=== ENHANCED XGBOOST MODEL ===\n"
     ]
    }
   ],
   "source": [
    "print(\"=== ENHANCED XGBOOST MODEL ===\")\n"
   ]
  },
  {
   "cell_type": "code",
   "execution_count": 49,
   "id": "8ff6c54c",
   "metadata": {},
   "outputs": [],
   "source": [
    "# Define parameter grid for XGBoost\n",
    "xgb_param_grid = {\n",
    "    'n_estimators': [100, 200, 300],\n",
    "    'max_depth': [3, 4, 5, 6],\n",
    "    'learning_rate': [0.01, 0.1, 0.2],\n",
    "    'subsample': [0.8, 0.9, 1.0],\n",
    "    'colsample_bytree': [0.8, 0.9, 1.0],\n",
    "    'min_child_weight': [1, 3, 5],\n",
    "    'gamma': [0, 0.1, 0.2]\n",
    "}"
   ]
  },
  {
   "cell_type": "code",
   "execution_count": 50,
   "id": "a7d1ac6e",
   "metadata": {},
   "outputs": [
    {
     "name": "stdout",
     "output_type": "stream",
     "text": [
      "Performing Grid Search for XGBoost...\n",
      "Fitting 5 folds for each of 2916 candidates, totalling 14580 fits\n",
      "\n",
      "Best XGBoost parameters: {'colsample_bytree': 0.9, 'gamma': 0, 'learning_rate': 0.2, 'max_depth': 6, 'min_child_weight': 1, 'n_estimators': 300, 'subsample': 1.0}\n",
      "Best cross-validation score: 0.8898\n"
     ]
    }
   ],
   "source": [
    "# Grid search with cross-validation\n",
    "print(\"Performing Grid Search for XGBoost...\")\n",
    "xgb_grid = GridSearchCV(\n",
    "    XGBClassifier(random_state=42, eval_metric='mlogloss'),\n",
    "    xgb_param_grid,\n",
    "    cv=StratifiedKFold(n_splits=5, shuffle=True, random_state=42),\n",
    "    scoring='accuracy',\n",
    "    n_jobs=-1,\n",
    "    verbose=1\n",
    ")\n",
    "\n",
    "xgb_grid.fit(X_train_scaled, y_train)\n",
    "\n",
    "print(f\"\\nBest XGBoost parameters: {xgb_grid.best_params_}\")\n",
    "print(f\"Best cross-validation score: {xgb_grid.best_score_:.4f}\")\n"
   ]
  },
  {
   "cell_type": "code",
   "execution_count": 51,
   "id": "78c78479",
   "metadata": {},
   "outputs": [
    {
     "name": "stdout",
     "output_type": "stream",
     "text": [
      "\n",
      "XGBoost Test Accuracy: 0.8378\n",
      "\n",
      "Classification Report:\n",
      "              precision    recall  f1-score   support\n",
      "\n",
      "        HIGH       0.76      0.70      0.73        23\n",
      "INTERMEDIARY       0.79      0.69      0.73        32\n",
      "         LOW       0.87      0.92      0.90        93\n",
      "\n",
      "    accuracy                           0.84       148\n",
      "   macro avg       0.81      0.77      0.79       148\n",
      "weighted avg       0.83      0.84      0.83       148\n",
      "\n"
     ]
    }
   ],
   "source": [
    "# Train best model\n",
    "best_xgb = xgb_grid.best_estimator_\n",
    "y_pred_xgb = best_xgb.predict(X_test_scaled)\n",
    "xgb_accuracy = accuracy_score(y_test, y_pred_xgb)\n",
    "\n",
    "print(f\"\\nXGBoost Test Accuracy: {xgb_accuracy:.4f}\")\n",
    "print(\"\\nClassification Report:\")\n",
    "print(classification_report(y_test, y_pred_xgb, target_names=target_encoder.classes_))"
   ]
  },
  {
   "cell_type": "code",
   "execution_count": 52,
   "id": "501f5315",
   "metadata": {},
   "outputs": [
    {
     "name": "stdout",
     "output_type": "stream",
     "text": [
      "✅ Enhanced XGBoost model saved!\n"
     ]
    }
   ],
   "source": [
    "# Save model\n",
    "import joblib\n",
    "joblib.dump(best_xgb, 'xgb_enhanced_model.joblib')\n",
    "print(\"✅ Enhanced XGBoost model saved!\")"
   ]
  },
  {
   "cell_type": "code",
   "execution_count": 53,
   "id": "4947914a",
   "metadata": {},
   "outputs": [
    {
     "name": "stdout",
     "output_type": "stream",
     "text": [
      "=== ENHANCED RANDOM FOREST MODEL ===\n"
     ]
    }
   ],
   "source": [
    "print(\"=== ENHANCED RANDOM FOREST MODEL ===\")"
   ]
  },
  {
   "cell_type": "code",
   "execution_count": 54,
   "id": "7e2dd2f6",
   "metadata": {},
   "outputs": [],
   "source": [
    "# Define parameter grid for Random Forest\n",
    "rf_param_grid = {\n",
    "    'n_estimators': [100, 200, 300],\n",
    "    'max_depth': [10, 15, 20, None],\n",
    "    'min_samples_split': [2, 5, 10],\n",
    "    'min_samples_leaf': [1, 2, 4],\n",
    "    'max_features': ['sqrt', 'log2', None],\n",
    "    'bootstrap': [True, False]\n",
    "}"
   ]
  },
  {
   "cell_type": "code",
   "execution_count": 55,
   "id": "32c27e11",
   "metadata": {},
   "outputs": [
    {
     "name": "stdout",
     "output_type": "stream",
     "text": [
      "Performing Grid Search for Random Forest...\n",
      "Fitting 5 folds for each of 648 candidates, totalling 3240 fits\n",
      "\n",
      "Best Random Forest parameters: {'bootstrap': False, 'max_depth': 15, 'max_features': 'sqrt', 'min_samples_leaf': 1, 'min_samples_split': 2, 'n_estimators': 200}\n",
      "Best cross-validation score: 0.8797\n"
     ]
    }
   ],
   "source": [
    "# Grid search with cross-validation\n",
    "print(\"Performing Grid Search for Random Forest...\")\n",
    "rf_grid = GridSearchCV(\n",
    "    RandomForestClassifier(random_state=42),\n",
    "    rf_param_grid,\n",
    "    cv=StratifiedKFold(n_splits=5, shuffle=True, random_state=42),\n",
    "    scoring='accuracy',\n",
    "    n_jobs=-1,\n",
    "    verbose=1\n",
    ")\n",
    "rf_grid.fit(X_train_scaled, y_train)\n",
    "\n",
    "print(f\"\\nBest Random Forest parameters: {rf_grid.best_params_}\")\n",
    "print(f\"Best cross-validation score: {rf_grid.best_score_:.4f}\")"
   ]
  },
  {
   "cell_type": "code",
   "execution_count": 56,
   "id": "178a16e2",
   "metadata": {},
   "outputs": [
    {
     "name": "stdout",
     "output_type": "stream",
     "text": [
      "\n",
      "Random Forest Test Accuracy: 0.8311\n",
      "\n",
      "Classification Report:\n",
      "              precision    recall  f1-score   support\n",
      "\n",
      "        HIGH       0.75      0.52      0.62        23\n",
      "INTERMEDIARY       0.80      0.75      0.77        32\n",
      "         LOW       0.85      0.94      0.89        93\n",
      "\n",
      "    accuracy                           0.83       148\n",
      "   macro avg       0.80      0.74      0.76       148\n",
      "weighted avg       0.83      0.83      0.82       148\n",
      "\n"
     ]
    }
   ],
   "source": [
    "# Train best model\n",
    "best_rf = rf_grid.best_estimator_\n",
    "y_pred_rf = best_rf.predict(X_test_scaled)\n",
    "rf_accuracy = accuracy_score(y_test, y_pred_rf)\n",
    "\n",
    "print(f\"\\nRandom Forest Test Accuracy: {rf_accuracy:.4f}\")\n",
    "print(\"\\nClassification Report:\")\n",
    "print(classification_report(y_test, y_pred_rf, target_names=target_encoder.classes_))"
   ]
  },
  {
   "cell_type": "code",
   "execution_count": 57,
   "id": "db624804",
   "metadata": {},
   "outputs": [
    {
     "name": "stdout",
     "output_type": "stream",
     "text": [
      "\n",
      "Top 10 Most Important Features:\n",
      "                          feature  importance\n",
      "18                    Systolic BP    0.097891\n",
      "1   Blood Pressure (mmHg)_encoded    0.083350\n",
      "19          Estimated LDL (mg/dL)    0.070529\n",
      "12            Age_BMI_Interaction    0.063466\n",
      "16           Cardiovascular_Index    0.056191\n",
      "6                  CVD Risk Score    0.054856\n",
      "0                     Weight (kg)    0.054645\n",
      "14                            BMI    0.054169\n",
      "8               Cholesterol_Ratio    0.053867\n",
      "9                     HDL (mg/dL)    0.053134\n"
     ]
    }
   ],
   "source": [
    "# Feature importance\n",
    "feature_importance = pd.DataFrame({\n",
    "    'feature': selected_features,\n",
    "    'importance': best_rf.feature_importances_\n",
    "}).sort_values('importance', ascending=False)\n",
    "\n",
    "print(\"\\nTop 10 Most Important Features:\")\n",
    "print(feature_importance.head(10))"
   ]
  },
  {
   "cell_type": "code",
   "execution_count": 59,
   "id": "dd81d88f",
   "metadata": {},
   "outputs": [
    {
     "data": {
      "image/png": "[encoded data removed]",
      "text/plain": [
       "<Figure size 1200x800 with 1 Axes>"
      ]
     },
     "metadata": {},
     "output_type": "display_data"
    }
   ],
   "source": [
    "# Visualize feature importance\n",
    "plt.figure(figsize=(12, 8))\n",
    "top_features = feature_importance.head(15)\n",
    "bars = plt.barh(range(len(top_features)), top_features['importance'], color='skyblue')\n",
    "plt.yticks(range(len(top_features)), top_features['feature'])\n",
    "plt.xlabel('Feature Importance', fontsize=12)\n",
    "plt.title('Top 15 Feature Importances - Random Forest', fontsize=16, fontweight='bold')\n",
    "plt.gca().invert_yaxis()"
   ]
  },
  {
   "cell_type": "code",
   "execution_count": 61,
   "id": "867a788e",
   "metadata": {},
   "outputs": [
    {
     "data": {
      "image/png": "[encoded data removed]",
      "text/plain": [
       "<Figure size 800x550 with 1 Axes>"
      ]
     },
     "metadata": {},
     "output_type": "display_data"
    }
   ],
   "source": [
    "# Add value labels\n",
    "for i, (bar, importance) in enumerate(zip(bars, top_features['importance'])):\n",
    "    plt.text(bar.get_width() + 0.001, bar.get_y() + bar.get_height()/2, \n",
    "             f'{importance:.4f}', ha='left', va='center', fontsize=10)\n",
    "\n",
    "plt.tight_layout()\n",
    "plt.show()\n"
   ]
  },
  {
   "cell_type": "code",
   "execution_count": 62,
   "id": "0ae2af06",
   "metadata": {},
   "outputs": [
    {
     "name": "stdout",
     "output_type": "stream",
     "text": [
      "✅ Enhanced Random Forest model saved!\n"
     ]
    }
   ],
   "source": [
    "# Save model\n",
    "joblib.dump(best_rf, 'rf_enhanced_model.joblib')\n",
    "print(\"✅ Enhanced Random Forest model saved!\")"
   ]
  },
  {
   "cell_type": "code",
   "execution_count": 63,
   "id": "68d080a5",
   "metadata": {},
   "outputs": [
    {
     "name": "stdout",
     "output_type": "stream",
     "text": [
      "=== ENHANCED GRADIENT BOOSTING AND ENSEMBLE ===\n"
     ]
    }
   ],
   "source": [
    "print(\"=== ENHANCED GRADIENT BOOSTING AND ENSEMBLE ===\")"
   ]
  },
  {
   "cell_type": "code",
   "execution_count": 64,
   "id": "67bb47d0",
   "metadata": {},
   "outputs": [
    {
     "name": "stdout",
     "output_type": "stream",
     "text": [
      "1. Training Gradient Boosting...\n",
      "Gradient Boosting Accuracy: 0.8446\n"
     ]
    }
   ],
   "source": [
    "# Gradient Boosting\n",
    "print(\"1. Training Gradient Boosting...\")\n",
    "gb_model = GradientBoostingClassifier(\n",
    "    n_estimators=200, \n",
    "    learning_rate=0.1, \n",
    "    max_depth=5, \n",
    "    random_state=42\n",
    ")\n",
    "gb_model.fit(X_train_scaled, y_train)\n",
    "y_pred_gb = gb_model.predict(X_test_scaled)\n",
    "gb_accuracy = accuracy_score(y_test, y_pred_gb)\n",
    "print(f\"Gradient Boosting Accuracy: {gb_accuracy:.4f}\")\n"
   ]
  },
  {
   "cell_type": "code",
   "execution_count": 65,
   "id": "3f88f982",
   "metadata": {},
   "outputs": [
    {
     "name": "stdout",
     "output_type": "stream",
     "text": [
      "\n",
      "2. Training Ensemble Methods...\n",
      "Voting Classifier Accuracy: 0.8378\n"
     ]
    }
   ],
   "source": [
    "# Ensemble Methods\n",
    "print(\"\\n2. Training Ensemble Methods...\")\n",
    "\n",
    "# Voting Classifier\n",
    "voting_clf = VotingClassifier(\n",
    "    estimators=[\n",
    "        ('xgb', best_xgb),\n",
    "        ('rf', best_rf),\n",
    "        ('gb', gb_model)\n",
    "    ],\n",
    "    voting='soft'\n",
    ")\n",
    "\n",
    "voting_clf.fit(X_train_scaled, y_train)\n",
    "y_pred_voting = voting_clf.predict(X_test_scaled)\n",
    "voting_accuracy = accuracy_score(y_test, y_pred_voting)\n",
    "print(f\"Voting Classifier Accuracy: {voting_accuracy:.4f}\")\n"
   ]
  },
  {
   "cell_type": "code",
   "execution_count": 67,
   "id": "9f8359f7",
   "metadata": {},
   "outputs": [
    {
     "name": "stdout",
     "output_type": "stream",
     "text": [
      "Bagging Classifier Accuracy: 0.8176\n"
     ]
    }
   ],
   "source": [
    "# Bagging Classifier\n",
    "bagging_clf = BaggingClassifier(\n",
    "    estimator=best_rf,\n",
    "    n_estimators=10,\n",
    "    random_state=42,\n",
    "    n_jobs=-1\n",
    ")\n",
    "\n",
    "bagging_clf.fit(X_train_scaled, y_train)\n",
    "y_pred_bagging = bagging_clf.predict(X_test_scaled)\n",
    "bagging_accuracy = accuracy_score(y_test, y_pred_bagging)\n",
    "print(f\"Bagging Classifier Accuracy: {bagging_accuracy:.4f}\")"
   ]
  },
  {
   "cell_type": "code",
   "execution_count": 68,
   "id": "d868732f",
   "metadata": {},
   "outputs": [
    {
     "name": "stdout",
     "output_type": "stream",
     "text": [
      "✅ All enhanced models saved!\n"
     ]
    }
   ],
   "source": [
    "# Save models\n",
    "joblib.dump(gb_model, 'gb_enhanced_model.joblib')\n",
    "joblib.dump(voting_clf, 'voting_enhanced_model.joblib')\n",
    "joblib.dump(bagging_clf, 'bagging_enhanced_model.joblib')\n",
    "print(\"✅ All enhanced models saved!\")"
   ]
  },
  {
   "cell_type": "code",
   "execution_count": 69,
   "id": "ae343b9d",
   "metadata": {},
   "outputs": [
    {
     "name": "stdout",
     "output_type": "stream",
     "text": [
      "=== MODEL PERFORMANCE COMPARISON ===\n"
     ]
    }
   ],
   "source": [
    "print(\"=== MODEL PERFORMANCE COMPARISON ===\")"
   ]
  },
  {
   "cell_type": "code",
   "execution_count": 70,
   "id": "8ec68ffc",
   "metadata": {},
   "outputs": [],
   "source": [
    "# Collect all accuracies\n",
    "model_accuracies = {\n",
    "    'XGBoost': xgb_accuracy,\n",
    "    'Random Forest': rf_accuracy,\n",
    "    'Gradient Boosting': gb_accuracy,\n",
    "    'Voting Classifier': voting_accuracy,\n",
    "    'Bagging Classifier': bagging_accuracy\n",
    "}"
   ]
  },
  {
   "cell_type": "code",
   "execution_count": 71,
   "id": "aab5c4c4",
   "metadata": {},
   "outputs": [
    {
     "name": "stdout",
     "output_type": "stream",
     "text": [
      "Model Performance Ranking:\n",
      "                Model  Accuracy\n",
      "2   Gradient Boosting  0.844595\n",
      "0             XGBoost  0.837838\n",
      "3   Voting Classifier  0.837838\n",
      "1       Random Forest  0.831081\n",
      "4  Bagging Classifier  0.817568\n"
     ]
    }
   ],
   "source": [
    "# Create comparison DataFrame\n",
    "comparison_df = pd.DataFrame({\n",
    "    'Model': list(model_accuracies.keys()),\n",
    "    'Accuracy': list(model_accuracies.values())\n",
    "}).sort_values('Accuracy', ascending=False)\n",
    "\n",
    "print(\"Model Performance Ranking:\")\n",
    "print(comparison_df)\n"
   ]
  },
  {
   "cell_type": "code",
   "execution_count": 72,
   "id": "80d9448a",
   "metadata": {},
   "outputs": [
    {
     "data": {
      "text/plain": [
       "([0, 1, 2, 3, 4],\n",
       " [Text(0, 0, 'Gradient Boosting'),\n",
       "  Text(1, 0, 'XGBoost'),\n",
       "  Text(2, 0, 'Voting Classifier'),\n",
       "  Text(3, 0, 'Random Forest'),\n",
       "  Text(4, 0, 'Bagging Classifier')])"
      ]
     },
     "execution_count": 72,
     "metadata": {},
     "output_type": "execute_result"
    },
    {
     "data": {
      "image/png": "[encoded data removed]",
      "text/plain": [
       "<Figure size 1200x600 with 1 Axes>"
      ]
     },
     "metadata": {},
     "output_type": "display_data"
    }
   ],
   "source": [
    "# Visualize results\n",
    "plt.figure(figsize=(12, 6))\n",
    "bars = plt.bar(comparison_df['Model'], comparison_df['Accuracy'], \n",
    "               color=['#FF6B6B', '#4ECDC4', '#45B7D1', '#96CEB4', '#FFEAA7'])\n",
    "plt.title('Model Performance Comparison', fontsize=16, fontweight='bold')\n",
    "plt.xlabel('Model', fontsize=12)\n",
    "plt.ylabel('Accuracy', fontsize=12)\n",
    "plt.ylim(0, 1)\n",
    "plt.xticks(rotation=45)"
   ]
  },
  {
   "cell_type": "code",
   "execution_count": 73,
   "id": "cba5cdc9",
   "metadata": {},
   "outputs": [
    {
     "data": {
      "image/png": "[encoded data removed]",
      "text/plain": [
       "<Figure size 800x550 with 1 Axes>"
      ]
     },
     "metadata": {},
     "output_type": "display_data"
    }
   ],
   "source": [
    "# Add value labels on bars\n",
    "for bar, acc in zip(bars, comparison_df['Accuracy']):\n",
    "    plt.text(bar.get_x() + bar.get_width()/2, bar.get_height() + 0.01, \n",
    "             f'{acc:.3f}', ha='center', va='bottom', fontweight='bold')\n",
    "\n",
    "plt.tight_layout()\n",
    "plt.show()"
   ]
  },
  {
   "cell_type": "code",
   "execution_count": 75,
   "id": "b9c8e933",
   "metadata": {},
   "outputs": [
    {
     "name": "stdout",
     "output_type": "stream",
     "text": [
      "\n",
      "🎯 Best Model Accuracy: 0.8446 (84.46%)\n",
      "⚠️  Target not met. Need 0.54% improvement\n"
     ]
    }
   ],
   "source": [
    "# Check if we achieved >85% accuracy\n",
    "best_accuracy = comparison_df['Accuracy'].max()\n",
    "print(f\"\\n🎯 Best Model Accuracy: {best_accuracy:.4f} ({best_accuracy*100:.2f}%)\")\n",
    "if best_accuracy >= 0.85:\n",
    "    print(\"✅ SUCCESS: Achieved above 85% accuracy!\")\n",
    "else:\n",
    "    print(f\"⚠️  Target not met. Need {(0.85 - best_accuracy)*100:.2f}% improvement\")"
   ]
  },
  {
   "cell_type": "code",
   "execution_count": 76,
   "id": "1f6e9e74",
   "metadata": {},
   "outputs": [
    {
     "name": "stdout",
     "output_type": "stream",
     "text": [
      "=== SAVING ENHANCED COMPONENTS ===\n"
     ]
    }
   ],
   "source": [
    "print(\"=== SAVING ENHANCED COMPONENTS ===\")"
   ]
  },
  {
   "cell_type": "code",
   "execution_count": 77,
   "id": "af704806",
   "metadata": {},
   "outputs": [
    {
     "name": "stdout",
     "output_type": "stream",
     "text": [
      "✅ Enhanced preprocessor saved!\n",
      "✅ Selected features saved!\n",
      "✅ Target encoder saved!\n"
     ]
    }
   ],
   "source": [
    "# Save preprocessing components\n",
    "joblib.dump(preprocessor, 'enhanced_preprocessor.joblib')\n",
    "joblib.dump(selected_features, 'selected_features.pkl')\n",
    "joblib.dump(target_encoder, 'target_encoder.joblib')\n",
    "\n",
    "print(\"✅ Enhanced preprocessor saved!\")\n",
    "print(\"✅ Selected features saved!\")\n",
    "print(\"✅ Target encoder saved!\")\n"
   ]
  },
  {
   "cell_type": "code",
   "execution_count": 78,
   "id": "8f3f07a2",
   "metadata": {},
   "outputs": [
    {
     "name": "stdout",
     "output_type": "stream",
     "text": [
      "\n",
      "✅ Prediction function created successfully!\n",
      "\n",
      "📋 Usage Example:\n",
      "prediction, probability = predict_cvd_risk(new_data, best_model, preprocessor, selected_features, target_encoder)\n",
      "\n",
      "🎉 Enhanced notebook update completed!\n",
      "🏆 Best Model: Gradient Boosting\n",
      "🎯 Accuracy: 0.8446 (84.46%)\n"
     ]
    }
   ],
   "source": [
    "# Create prediction function\n",
    "def predict_cvd_risk(input_data, model, preprocessor, features, encoder):\n",
    "    \"\"\"\n",
    "    Predict CVD risk for new data\n",
    "    \n",
    "    Parameters:\n",
    "    input_data: DataFrame with required features\n",
    "    model: Trained model\n",
    "    preprocessor: Fitted preprocessor\n",
    "    features: List of selected features\n",
    "    encoder: Target encoder\n",
    "    \n",
    "    Returns:\n",
    "    prediction: Predicted CVD risk level\n",
    "    probability: Prediction probabilities\n",
    "    \"\"\"\n",
    "    # Select features\n",
    "    X_input = input_data[features].copy()\n",
    "    \n",
    "    # Preprocess\n",
    "    X_scaled = preprocessor.transform(X_input)\n",
    "    \n",
    "    # Predict\n",
    "    prediction = model.predict(X_scaled)\n",
    "    probability = model.predict_proba(X_scaled)\n",
    "    \n",
    "    # Decode prediction\n",
    "    decoded_prediction = encoder.inverse_transform(prediction)\n",
    "    \n",
    "    return decoded_prediction[0], probability[0]\n",
    "\n",
    "print(\"\\n✅ Prediction function created successfully!\")\n",
    "print(\"\\n📋 Usage Example:\")\n",
    "print(\"prediction, probability = predict_cvd_risk(new_data, best_model, preprocessor, selected_features, target_encoder)\")\n",
    "\n",
    "print(\"\\n🎉 Enhanced notebook update completed!\")\n",
    "print(f\"🏆 Best Model: {comparison_df.iloc[0]['Model']}\")\n",
    "print(f\"🎯 Accuracy: {best_accuracy:.4f} ({best_accuracy*100:.2f}%)\")"
   ]
  },
  {
   "cell_type": "code",
   "execution_count": null,
   "id": "9800c849",
   "metadata": {},
   "outputs": [],
   "source": []
  }
 ],
 "metadata": {
  "kernelspec": {
   "display_name": ".venv",
   "language": "python",
   "name": "python3"
  },
  "language_info": {
   "codemirror_mode": {
    "name": "ipython",
    "version": 3
   },
   "file_extension": ".py",
   "mimetype": "text/x-python",
   "name": "python",
   "nbconvert_exporter": "python",
   "pygments_lexer": "ipython3",
   "version": "3.12.7"
  }
 },
 "nbformat": 4,
 "nbformat_minor": 5
}
